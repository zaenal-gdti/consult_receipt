{
 "cells": [
  {
   "cell_type": "code",
   "execution_count": 1,
   "id": "36c6002b-7907-4ce9-b406-71e7672dcd70",
   "metadata": {},
   "outputs": [],
   "source": [
    "from docx import Document\n",
    "from docx.shared import Pt\n",
    "from docx.enum.text import WD_ALIGN_PARAGRAPH\n",
    "import subprocess\n",
    "from docx.shared import Pt\n",
    "import pandas as pd\n",
    "import os\n",
    "import shutil\n",
    "from tqdm import tqdm"
   ]
  },
  {
   "cell_type": "code",
   "execution_count": 2,
   "id": "e7181638-87c2-4c0b-9627-2180e19c0678",
   "metadata": {},
   "outputs": [],
   "source": [
    "import contextlib"
   ]
  },
  {
   "cell_type": "code",
   "execution_count": 4,
   "id": "0eee8df2-35cb-4baa-85a7-9a1cbe9a46f8",
   "metadata": {},
   "outputs": [],
   "source": [
    "def row_to_pdf(data):\n",
    "    f = open('template.docx', 'rb')\n",
    "    doc = Document(f)\n",
    "    \n",
    "    name = data['Name']\n",
    "    consult_on = pd.to_datetime(data['Consultation Date']).strftime('%d-%b-%Y')\n",
    "    user_id = data['Card Number']#'0012'\n",
    "    doctor = data['Doctor Name'] \n",
    "    cons_time = data['Start Time']#.astype(str)\n",
    "    comp = data['Corporate Name']\n",
    "    cons_id = data['Consultation ID']\n",
    "    claim_id = data['Claim ID']\n",
    "    icd = data['ICDX']+ ' ' + data['Diagnosis']\n",
    "    \n",
    "    \n",
    "    replace_word = {'Patient Name : ': f'Patient Name: {name}', \n",
    "                    'Patient User ID : ': f'Patient User ID : {user_id}',\n",
    "                    'Doctor Name\\t\\t: ' : f'Doctor Name\\t\\t: {doctor}',\n",
    "                    'Consult Time\\t\\t: ' : f'Consult Time\\t\\t: {cons_time}',\n",
    "                    'Company Name\\t: ' : f'Company Name\\t: {comp}',\n",
    "                    'Consult ID\\t\\t: ' : f'Consult ID\\t\\t: {cons_id}',\n",
    "                    'Claim ID\\t\\t: ': f'Claim ID\\t\\t: {claim_id}',\n",
    "                    'ICDX\\t\\t\\t: ' : f'ICDX\\t\\t\\t: {icd}'\n",
    "    }\n",
    "\n",
    "    \n",
    "    tbl1 = {'consult_price' :  data['Consult Fee'],\n",
    "            'drug_price' : data['Rx Fee']\n",
    "            }\n",
    "    tbl1['total_fare'] = tbl1['consult_price'] + tbl1['drug_price']\n",
    "\n",
    "    \n",
    "    \n",
    "    \n",
    "\n",
    "    for word in replace_word:\n",
    "        for p in doc.paragraphs:\n",
    "            if p.text.find(word) >= 0:\n",
    "                p.text = p.text.replace(word, replace_word[word])\n",
    "    \n",
    "    par2 = doc.paragraphs[2]\n",
    "    \n",
    "    par2.text = f'Consulted on : {consult_on}'\n",
    "    \n",
    "    par2.runs[0].bold = True\n",
    "\n",
    "\n",
    "    tbl_val1 = tbl1['consult_price']\n",
    "    tbl_val2 = tbl1['drug_price']\n",
    "    tbl_val3 = tbl1['total_fare']\n",
    "    \n",
    "    \n",
    "    \n",
    "    doc.tables[0].cell(0, 1).text = f'Rp {tbl_val1}'\n",
    "    doc.tables[0].cell(0, 1).paragraphs[0].runs[0].bold = True\n",
    "    doc.tables[0].cell(0, 1).paragraphs[0].alignment = 2\n",
    "    \n",
    "    doc.tables[0].cell(1, 1).text = f'Rp {tbl_val2}'\n",
    "    doc.tables[0].cell(1, 1).paragraphs[0].runs[0].bold = True\n",
    "    doc.tables[0].cell(1, 1).paragraphs[0].alignment = 2\n",
    "    \n",
    "    doc.tables[0].cell(2, 1).text = f'Rp {tbl_val3}'\n",
    "    doc.tables[0].cell(2, 1).paragraphs[0].runs[0].bold = True\n",
    "    doc.tables[0].cell(2, 1).paragraphs[0].alignment = 2\n",
    "    doc.tables[0].cell(2, 1).paragraphs[0].runs[0].font.size = Pt(18)\n",
    "    \n",
    "    for i in range(3):\n",
    "        doc.tables[0].cell(i, 1).paragraphs[0].paragraph_format.space_after = Pt(0)\n",
    "\n",
    "    obat = data['pres_all']\n",
    "    if obat != 'nan':\n",
    "    \n",
    "        \n",
    "        \n",
    "        obat_idn = obat.split('|')\n",
    "        for i in range(len(obat_idn)):\n",
    "            obat_cl = obat_idn[i].split(';')\n",
    "            j = i + 1\n",
    "            doc.tables[1].cell(j, 0).text = obat_cl[0]\n",
    "            doc.tables[1].cell(j, 1).text = obat_cl[2].replace('.0', '')\n",
    "            doc.tables[1].cell(j, 2).text = obat_cl[1].replace('.0', '')\n",
    "            doc.tables[1].cell(j, 3).text = obat_cl[3].replace('.0', '')\n",
    "    \n",
    "            doc.tables[1].cell(j, 0).paragraphs[0].runs[0].font.size = Pt(8)\n",
    "            doc.tables[1].cell(j, 1).paragraphs[0].runs[0].font.size = Pt(8)\n",
    "            doc.tables[1].cell(j, 2).paragraphs[0].runs[0].font.size = Pt(8)\n",
    "            doc.tables[1].cell(j, 3).paragraphs[0].runs[0].font.size = Pt(8)\n",
    "        \n",
    "            for k in range(4):\n",
    "                doc.tables[1].cell(j, k).paragraphs[0].paragraph_format.space_after = Pt(0)\n",
    "        \n",
    "    doc.save(f'output/{consult_on}_Consultation_Receipt_{name}.docx')\n",
    "    f.close()\n",
    "\n",
    "    # subprocess.run(['libreoffice', '--convert-to', 'pdf' ,\n",
    "    #                 f'output/{consult_on}_Consultation_Receipt_{name}.docx', '--outdir', 'output/']\n",
    "    #                ,stdout=subprocess.DEVNULL,\n",
    "    #                 stderr=subprocess.DEVNULL\n",
    "    #             )\n",
    "\n",
    "    # old_doc = [x for x in os.listdir('output') if 'docx' in x]\n",
    "    # for i in old_doc:\n",
    "    #     os.remove(f'output/{i}')"
   ]
  },
  {
   "cell_type": "code",
   "execution_count": 7,
   "id": "955fec2d-e6e4-4998-b969-401c1c05de17",
   "metadata": {},
   "outputs": [],
   "source": [
    "def mail_merge(file):\n",
    "    shutil.rmtree('output')\n",
    "    os.mkdir('output')\n",
    "    df_input = pd.read_excel('Input/sample_consult_file_w_prescription.xlsx')\n",
    "    df_input['ICDX'] = df_input.filter(like = 'ICD').astype(str).agg(','.join, axis=1).str.replace(',nan', '')\n",
    "    df_input['Diagnosis'] = df_input.filter(like = 'Diagnosis ').astype(str).agg(','.join, axis=1).str.replace(',nan', '')\n",
    "    max_pres = df_input.filter(like = 'obat_').columns[-1].split('_')[1]\n",
    "\n",
    "    df_input['pres_all'] = ''\n",
    "    for i in range(int(max_pres)):\n",
    "        j = i + 1\n",
    "        new_pres = df_input[[x +'_'+ str(j) for x in ['obat', 'harga', 'jumlah', 'total']]].astype(str).agg(';'.join, axis=1)\n",
    "        df_input['pres_all'] = df_input['pres_all'] + '|' + new_pres\n",
    "    # for i in \n",
    "    # df_input.filter(like = 'obat_')\n",
    "    df_input['pres_all'] = df_input['pres_all'].str.replace('^.', '', regex = True)\n",
    "    df_input['pres_all']  = df_input['pres_all'].str.replace('nan;', '').str.replace('nan|', '').str.replace('|nan', '')\n",
    "\n",
    "    df_input['Rx Fee'] = df_input['Rx Fee'].fillna(0)\n",
    "    df_input['Consult Fee'] = df_input['Consult Fee'].fillna(0)\n",
    "    for index, row in tqdm(df_input.iterrows()):\n",
    "        row_to_pdf(row)"
   ]
  },
  {
   "cell_type": "code",
   "execution_count": 6,
   "id": "d1f75212-f747-4bcd-96dd-f194e819688d",
   "metadata": {},
   "outputs": [
    {
     "name": "stderr",
     "output_type": "stream",
     "text": [
      "1000it [32:37,  1.96s/it]\n"
     ]
    }
   ],
   "source": [
    "mail_merge('Input/sample_consult_file_w_prescription.xlsx')"
   ]
  },
  {
   "cell_type": "code",
   "execution_count": null,
   "id": "8a8f667a-fa77-4b12-8848-e4de11d1bfb5",
   "metadata": {},
   "outputs": [],
   "source": []
  },
  {
   "cell_type": "code",
   "execution_count": 225,
   "id": "41fd0bc7-39d7-4d7c-988c-1887a0f310a5",
   "metadata": {},
   "outputs": [],
   "source": [
    "df_input = pd.read_excel('Input/sample_consult_file_w_prescription.xlsx')"
   ]
  },
  {
   "cell_type": "code",
   "execution_count": 226,
   "id": "4234fd5a-056e-4eba-8169-c14f52464f12",
   "metadata": {},
   "outputs": [],
   "source": [
    "df_input['ICDX'] = df_input.filter(like = 'ICD').astype(str).agg(','.join, axis=1).str.replace(',nan', '')\n",
    "df_input['Diagnosis'] = df_input.filter(like = 'Diagnosis ').astype(str).agg(','.join, axis=1).str.replace(',nan', '')"
   ]
  },
  {
   "cell_type": "code",
   "execution_count": 227,
   "id": "5a98c0da-29e9-4c25-9082-9ba2f32736fd",
   "metadata": {},
   "outputs": [],
   "source": [
    "max_pres = df_input.filter(like = 'obat_').columns[-1].split('_')[1]\n",
    "\n",
    "df_input['pres_all'] = ''\n",
    "for i in range(int(max_pres)):\n",
    "    j = i + 1\n",
    "    new_pres = df_input[[x +'_'+ str(j) for x in ['obat', 'harga', 'jumlah', 'total']]].astype(str).agg(';'.join, axis=1)\n",
    "    df_input['pres_all'] = df_input['pres_all'] + '|' + new_pres\n",
    "# for i in \n",
    "# df_input.filter(like = 'obat_')\n",
    "df_input['pres_all'] = df_input['pres_all'].str.replace('^.', '', regex = True)\n",
    "df_input['pres_all']  = df_input['pres_all'].str.replace('nan;', '').str.replace('nan|', '').str.replace('|nan', '') "
   ]
  },
  {
   "cell_type": "code",
   "execution_count": 228,
   "id": "28d2c215-d7ee-41a3-8a3b-2e3b7a1fddd2",
   "metadata": {},
   "outputs": [],
   "source": [
    "df_input['Rx Fee'] = df_input['Rx Fee'].fillna(0)\n",
    "df_input['Consult Fee'] = df_input['Consult Fee'].fillna(0)"
   ]
  },
  {
   "cell_type": "code",
   "execution_count": 229,
   "id": "755fab81-1da7-4e4d-8e4e-937849989f6c",
   "metadata": {},
   "outputs": [
    {
     "data": {
      "text/plain": [
       "True"
      ]
     },
     "execution_count": 229,
     "metadata": {},
     "output_type": "execute_result"
    }
   ],
   "source": [
    "row['Prescription']"
   ]
  },
  {
   "cell_type": "code",
   "execution_count": 230,
   "id": "dc32976a-5833-4499-bdbc-2cad2f1dcfa4",
   "metadata": {},
   "outputs": [
    {
     "name": "stderr",
     "output_type": "stream",
     "text": [
      "345it [10:57,  1.91s/it]\n"
     ]
    },
    {
     "ename": "IndexError",
     "evalue": "list index out of range",
     "output_type": "error",
     "traceback": [
      "\u001b[0;31m---------------------------------------------------------------------------\u001b[0m",
      "\u001b[0;31mIndexError\u001b[0m                                Traceback (most recent call last)",
      "File \u001b[0;32m<timed exec>:2\u001b[0m\n",
      "Cell \u001b[0;32mIn[224], line 79\u001b[0m, in \u001b[0;36mmail_merge\u001b[0;34m(data)\u001b[0m\n\u001b[1;32m     77\u001b[0m obat_cl \u001b[38;5;241m=\u001b[39m obat_idn[i]\u001b[38;5;241m.\u001b[39msplit(\u001b[38;5;124m'\u001b[39m\u001b[38;5;124m;\u001b[39m\u001b[38;5;124m'\u001b[39m)\n\u001b[1;32m     78\u001b[0m j \u001b[38;5;241m=\u001b[39m i \u001b[38;5;241m+\u001b[39m \u001b[38;5;241m1\u001b[39m\n\u001b[0;32m---> 79\u001b[0m \u001b[43mdoc\u001b[49m\u001b[38;5;241;43m.\u001b[39;49m\u001b[43mtables\u001b[49m\u001b[43m[\u001b[49m\u001b[38;5;241;43m1\u001b[39;49m\u001b[43m]\u001b[49m\u001b[38;5;241;43m.\u001b[39;49m\u001b[43mcell\u001b[49m\u001b[43m(\u001b[49m\u001b[43mj\u001b[49m\u001b[43m,\u001b[49m\u001b[43m \u001b[49m\u001b[38;5;241;43m0\u001b[39;49m\u001b[43m)\u001b[49m\u001b[38;5;241m.\u001b[39mtext \u001b[38;5;241m=\u001b[39m obat_cl[\u001b[38;5;241m0\u001b[39m]\n\u001b[1;32m     80\u001b[0m doc\u001b[38;5;241m.\u001b[39mtables[\u001b[38;5;241m1\u001b[39m]\u001b[38;5;241m.\u001b[39mcell(j, \u001b[38;5;241m1\u001b[39m)\u001b[38;5;241m.\u001b[39mtext \u001b[38;5;241m=\u001b[39m obat_cl[\u001b[38;5;241m2\u001b[39m]\u001b[38;5;241m.\u001b[39mreplace(\u001b[38;5;124m'\u001b[39m\u001b[38;5;124m.0\u001b[39m\u001b[38;5;124m'\u001b[39m, \u001b[38;5;124m'\u001b[39m\u001b[38;5;124m'\u001b[39m)\n\u001b[1;32m     81\u001b[0m doc\u001b[38;5;241m.\u001b[39mtables[\u001b[38;5;241m1\u001b[39m]\u001b[38;5;241m.\u001b[39mcell(j, \u001b[38;5;241m2\u001b[39m)\u001b[38;5;241m.\u001b[39mtext \u001b[38;5;241m=\u001b[39m obat_cl[\u001b[38;5;241m1\u001b[39m]\u001b[38;5;241m.\u001b[39mreplace(\u001b[38;5;124m'\u001b[39m\u001b[38;5;124m.0\u001b[39m\u001b[38;5;124m'\u001b[39m, \u001b[38;5;124m'\u001b[39m\u001b[38;5;124m'\u001b[39m)\n",
      "File \u001b[0;32m/opt/conda/lib/python3.11/site-packages/docx/table.py:91\u001b[0m, in \u001b[0;36mTable.cell\u001b[0;34m(self, row_idx, col_idx)\u001b[0m\n\u001b[1;32m     86\u001b[0m \u001b[38;5;250m\u001b[39m\u001b[38;5;124;03m\"\"\"|_Cell| at `row_idx`, `col_idx` intersection.\u001b[39;00m\n\u001b[1;32m     87\u001b[0m \n\u001b[1;32m     88\u001b[0m \u001b[38;5;124;03m(0, 0) is the top, left-most cell.\u001b[39;00m\n\u001b[1;32m     89\u001b[0m \u001b[38;5;124;03m\"\"\"\u001b[39;00m\n\u001b[1;32m     90\u001b[0m cell_idx \u001b[38;5;241m=\u001b[39m col_idx \u001b[38;5;241m+\u001b[39m (row_idx \u001b[38;5;241m*\u001b[39m \u001b[38;5;28mself\u001b[39m\u001b[38;5;241m.\u001b[39m_column_count)\n\u001b[0;32m---> 91\u001b[0m \u001b[38;5;28;01mreturn\u001b[39;00m \u001b[38;5;28;43mself\u001b[39;49m\u001b[38;5;241;43m.\u001b[39;49m\u001b[43m_cells\u001b[49m\u001b[43m[\u001b[49m\u001b[43mcell_idx\u001b[49m\u001b[43m]\u001b[49m\n",
      "\u001b[0;31mIndexError\u001b[0m: list index out of range"
     ]
    }
   ],
   "source": [
    "%%time\n",
    "for index, row in tqdm(df_input.iterrows()):\n",
    "    mail_merge(row)"
   ]
  },
  {
   "cell_type": "code",
   "execution_count": 234,
   "id": "6048b6dd-fe4e-4d87-a06b-d44cadc4584f",
   "metadata": {},
   "outputs": [
    {
     "data": {
      "text/plain": [
       "14"
      ]
     },
     "execution_count": 234,
     "metadata": {},
     "output_type": "execute_result"
    }
   ],
   "source": [
    "row['pres_all'].count('|')"
   ]
  },
  {
   "cell_type": "code",
   "execution_count": 172,
   "id": "b2529db3-5d56-42af-bafd-aa187eca5d48",
   "metadata": {},
   "outputs": [],
   "source": [
    "name = data['Name']\n",
    "consult_on = pd.to_datetime(data['Consultation Date']).strftime('%d-%b-%Y')\n",
    "user_id = data['Card Number']#'0012'\n",
    "doctor = data['Doctor Name'] \n",
    "cons_time = data['Start Time']#.astype(str)\n",
    "comp = data['Corporate Name']\n",
    "cons_id = data['Consultation ID']\n",
    "claim_id = data['Claim ID']\n",
    "icd = data['ICDX']+ ' ' + data['Diagnosis']"
   ]
  },
  {
   "cell_type": "code",
   "execution_count": 173,
   "id": "20ae4b8e-ed79-4b89-b1f7-0a3ee5eca576",
   "metadata": {},
   "outputs": [],
   "source": [
    "    tbl1 = {'consult_price' :  data['Consult Fee'],\n",
    "            'drug_price' : data['Rx Fee']\n",
    "            }"
   ]
  },
  {
   "cell_type": "code",
   "execution_count": 174,
   "id": "2c833fb3-ddb2-45e9-af49-f9da069dfc4c",
   "metadata": {},
   "outputs": [
    {
     "data": {
      "text/plain": [
       "True"
      ]
     },
     "execution_count": 174,
     "metadata": {},
     "output_type": "execute_result"
    }
   ],
   "source": [
    "data['Prescription']"
   ]
  },
  {
   "cell_type": "code",
   "execution_count": 175,
   "id": "eb225ed7-c2de-497d-bee6-118fd3eb7ad5",
   "metadata": {},
   "outputs": [
    {
     "data": {
      "text/plain": [
       "'nan'"
      ]
     },
     "execution_count": 175,
     "metadata": {},
     "output_type": "execute_result"
    }
   ],
   "source": [
    "obat"
   ]
  },
  {
   "cell_type": "code",
   "execution_count": 157,
   "id": "34243dbd-b540-4620-b512-5dc1b3b8b46f",
   "metadata": {},
   "outputs": [
    {
     "ename": "IndexError",
     "evalue": "list index out of range",
     "output_type": "error",
     "traceback": [
      "\u001b[0;31m---------------------------------------------------------------------------\u001b[0m",
      "\u001b[0;31mIndexError\u001b[0m                                Traceback (most recent call last)",
      "Cell \u001b[0;32mIn[157], line 8\u001b[0m\n\u001b[1;32m      6\u001b[0m j \u001b[38;5;241m=\u001b[39m i \u001b[38;5;241m+\u001b[39m \u001b[38;5;241m1\u001b[39m\n\u001b[1;32m      7\u001b[0m doc\u001b[38;5;241m.\u001b[39mtables[\u001b[38;5;241m1\u001b[39m]\u001b[38;5;241m.\u001b[39mcell(j, \u001b[38;5;241m0\u001b[39m)\u001b[38;5;241m.\u001b[39mtext \u001b[38;5;241m=\u001b[39m obat_cl[\u001b[38;5;241m0\u001b[39m]\n\u001b[0;32m----> 8\u001b[0m doc\u001b[38;5;241m.\u001b[39mtables[\u001b[38;5;241m1\u001b[39m]\u001b[38;5;241m.\u001b[39mcell(j, \u001b[38;5;241m1\u001b[39m)\u001b[38;5;241m.\u001b[39mtext \u001b[38;5;241m=\u001b[39m \u001b[43mobat_cl\u001b[49m\u001b[43m[\u001b[49m\u001b[38;5;241;43m1\u001b[39;49m\u001b[43m]\u001b[49m\n\u001b[1;32m      9\u001b[0m doc\u001b[38;5;241m.\u001b[39mtables[\u001b[38;5;241m1\u001b[39m]\u001b[38;5;241m.\u001b[39mcell(j, \u001b[38;5;241m2\u001b[39m)\u001b[38;5;241m.\u001b[39mtext \u001b[38;5;241m=\u001b[39m obat_cl[\u001b[38;5;241m2\u001b[39m]\n\u001b[1;32m     10\u001b[0m doc\u001b[38;5;241m.\u001b[39mtables[\u001b[38;5;241m1\u001b[39m]\u001b[38;5;241m.\u001b[39mcell(j, \u001b[38;5;241m3\u001b[39m)\u001b[38;5;241m.\u001b[39mtext \u001b[38;5;241m=\u001b[39m obat_cl[\u001b[38;5;241m3\u001b[39m]\n",
      "\u001b[0;31mIndexError\u001b[0m: list index out of range"
     ]
    }
   ],
   "source": [
    "obat = data['pres_all']\n",
    "\n",
    "obat_idn = obat.split('|')\n",
    "for i in range(len(obat_idn)):\n",
    "    obat_cl = obat_idn[i].split(';')\n",
    "    j = i + 1\n",
    "    doc.tables[1].cell(j, 0).text = obat_cl[0]\n",
    "    doc.tables[1].cell(j, 1).text = obat_cl[1]\n",
    "    doc.tables[1].cell(j, 2).text = obat_cl[2]\n",
    "    doc.tables[1].cell(j, 3).text = obat_cl[3]\n",
    "\n",
    "    doc.tables[1].cell(j, 0).paragraphs[0].runs[0].font.size = Pt(8)\n",
    "    doc.tables[1].cell(j, 1).paragraphs[0].runs[0].font.size = Pt(8)\n",
    "    doc.tables[1].cell(j, 2).paragraphs[0].runs[0].font.size = Pt(8)\n",
    "    doc.tables[1].cell(j, 3).paragraphs[0].runs[0].font.size = Pt(8)\n",
    "\n",
    "    for k in range(4):\n",
    "        doc.tables[1].cell(j, k).paragraphs[0].paragraph_format.space_after = Pt(0)\n"
   ]
  },
  {
   "cell_type": "code",
   "execution_count": 191,
   "id": "788ae62f-0e89-493b-95ce-4db50b12d285",
   "metadata": {},
   "outputs": [
    {
     "name": "stderr",
     "output_type": "stream",
     "text": [
      "Warning: failed to launch javaldx - java may not function correctly\n",
      "Error: source file could not be loaded\n"
     ]
    }
   ],
   "source": [
    "mail_merge(row)"
   ]
  },
  {
   "cell_type": "code",
   "execution_count": 136,
   "id": "4be98510-b292-44ed-82f3-100251f351c7",
   "metadata": {},
   "outputs": [],
   "source": [
    "f = open('template.docx', 'rb')\n",
    "doc = Document(f)\n",
    "\n",
    "name = data['Name']\n",
    "consult_on = pd.to_datetime(data['Consultation Date']).strftime('%d-%b-%Y')\n",
    "user_id = data['Card Number']#'0012'\n",
    "doctor = data['Doctor Name'] \n",
    "cons_time = data['Start Time']#.astype(str)\n",
    "comp = data['Corporate Name']\n",
    "cons_id = data['Consultation ID']\n",
    "claim_id = data['Claim ID']\n",
    "icd = data['ICDX']+ ' ' + data['Diagnosis']\n",
    "\n",
    "\n",
    "replace_word = {'Patient Name : ': f'Patient Name: {name}', \n",
    "                'Patient User ID : ': f'Patient User ID : {user_id}',\n",
    "                'Doctor Name\\t\\t: ' : f'Doctor Name\\t\\t: {doctor}',\n",
    "                'Consult Time\\t\\t: ' : f'Consult Time\\t\\t: {cons_time}',\n",
    "                'Company Name\\t: ' : f'Company Name\\t: {comp}',\n",
    "                'Consult ID\\t\\t: ' : f'Consult ID\\t\\t: {cons_id}',\n",
    "                'Claim ID\\t\\t: ': f'Claim ID\\t\\t: {claim_id}',\n",
    "                'ICDX\\t\\t\\t: ' : f'ICDX\\t\\t\\t: {icd}'\n",
    "}\n",
    "\n",
    "\n",
    "tbl1 = {'consult_price' :  data['Consult Fee'],\n",
    "        'drug_price' : data['Rx Fee']\n",
    "        }\n",
    "tbl1['total_fare'] = tbl1['consult_price'] + tbl1['drug_price']\n",
    "\n",
    "\n",
    "\n",
    "\n",
    "\n",
    "for word in replace_word:\n",
    "    for p in doc.paragraphs:\n",
    "        if p.text.find(word) >= 0:\n",
    "            p.text = p.text.replace(word, replace_word[word])\n",
    "\n",
    "par2 = doc.paragraphs[2]\n",
    "\n",
    "par2.text = f'Consulted on : {consult_on}'\n",
    "\n",
    "par2.runs[0].bold = True\n",
    "\n",
    "\n",
    "tbl_val1 = tbl1['consult_price']\n",
    "tbl_val2 = tbl1['drug_price']\n",
    "tbl_val3 = tbl1['total_fare']\n",
    "\n",
    "\n",
    "\n",
    "doc.tables[0].cell(0, 1).text = f'Rp {tbl_val1}'\n",
    "doc.tables[0].cell(0, 1).paragraphs[0].runs[0].bold = True\n",
    "doc.tables[0].cell(0, 1).paragraphs[0].alignment = 2\n",
    "\n",
    "doc.tables[0].cell(1, 1).text = f'Rp {tbl_val2}'\n",
    "doc.tables[0].cell(1, 1).paragraphs[0].runs[0].bold = True\n",
    "doc.tables[0].cell(1, 1).paragraphs[0].alignment = 2\n",
    "\n",
    "doc.tables[0].cell(2, 1).text = f'Rp {tbl_val3}'\n",
    "doc.tables[0].cell(2, 1).paragraphs[0].runs[0].bold = True\n",
    "doc.tables[0].cell(2, 1).paragraphs[0].alignment = 2\n",
    "doc.tables[0].cell(2, 1).paragraphs[0].runs[0].font.size = Pt(18)\n",
    "\n",
    "for i in range(3):\n",
    "    doc.tables[0].cell(i, 1).paragraphs[0].paragraph_format.space_after = Pt(0)\n"
   ]
  },
  {
   "cell_type": "code",
   "execution_count": 7,
   "id": "e4e22050-90ac-46f5-9acf-d7ec1ee67516",
   "metadata": {},
   "outputs": [
    {
     "name": "stderr",
     "output_type": "stream",
     "text": [
      "UsageError: %%time is a cell magic, but the cell body is empty. Did you mean the line magic %time (single %)?\n"
     ]
    }
   ],
   "source": [
    "%%time\n"
   ]
  },
  {
   "cell_type": "code",
   "execution_count": null,
   "id": "28281eac-e320-4c1a-838e-82a4ffaef563",
   "metadata": {},
   "outputs": [],
   "source": []
  },
  {
   "cell_type": "code",
   "execution_count": null,
   "id": "6c016bd5-7a44-400f-b3b5-4a803001cd88",
   "metadata": {},
   "outputs": [],
   "source": []
  },
  {
   "cell_type": "code",
   "execution_count": null,
   "id": "54b93ce7-ec62-4daa-9fb0-59ad5e6eb000",
   "metadata": {},
   "outputs": [],
   "source": [
    "claim_id = '131011056 & 131011450'\n"
   ]
  },
  {
   "cell_type": "code",
   "execution_count": null,
   "id": "46686b05-27d0-4b6c-8093-43ac4676fedf",
   "metadata": {},
   "outputs": [],
   "source": [
    "doc.paragraphs[3].text"
   ]
  },
  {
   "cell_type": "code",
   "execution_count": 116,
   "id": "50f1d984-47b8-4cf8-a990-0fef937d5832",
   "metadata": {},
   "outputs": [
    {
     "data": {
      "text/plain": [
       "0      False\n",
       "1       True\n",
       "2       True\n",
       "3       True\n",
       "4       True\n",
       "       ...  \n",
       "995    False\n",
       "996    False\n",
       "997    False\n",
       "998    False\n",
       "999    False\n",
       "Name: Rx Fee, Length: 1000, dtype: bool"
      ]
     },
     "execution_count": 116,
     "metadata": {},
     "output_type": "execute_result"
    }
   ],
   "source": []
  },
  {
   "cell_type": "code",
   "execution_count": 192,
   "id": "f93fcfa7-c00f-453f-855e-f78aaf260878",
   "metadata": {},
   "outputs": [],
   "source": [
    "data = row"
   ]
  },
  {
   "cell_type": "code",
   "execution_count": 193,
   "id": "d856af3c-3a16-4620-ba9b-54df6a9464fc",
   "metadata": {},
   "outputs": [],
   "source": [
    "    f = open('template.docx', 'rb')\n",
    "    doc = Document(f)\n",
    "    \n",
    "    name = data['Name']\n",
    "    consult_on = pd.to_datetime(data['Consultation Date']).strftime('%d-%b-%Y')\n",
    "    user_id = data['Card Number']#'0012'\n",
    "    doctor = data['Doctor Name'] \n",
    "    cons_time = data['Start Time']#.astype(str)\n",
    "    comp = data['Corporate Name']\n",
    "    cons_id = data['Consultation ID']\n",
    "    claim_id = data['Claim ID']\n",
    "    icd = data['ICDX']+ ' ' + data['Diagnosis']\n",
    "    \n",
    "    \n",
    "    replace_word = {'Patient Name : ': f'Patient Name: {name}', \n",
    "                    'Patient User ID : ': f'Patient User ID : {user_id}',\n",
    "                    'Doctor Name\\t\\t: ' : f'Doctor Name\\t\\t: {doctor}',\n",
    "                    'Consult Time\\t\\t: ' : f'Consult Time\\t\\t: {cons_time}',\n",
    "                    'Company Name\\t: ' : f'Company Name\\t: {comp}',\n",
    "                    'Consult ID\\t\\t: ' : f'Consult ID\\t\\t: {cons_id}',\n",
    "                    'Claim ID\\t\\t: ': f'Claim ID\\t\\t: {claim_id}',\n",
    "                    'ICDX\\t\\t\\t: ' : f'ICDX\\t\\t\\t: {icd}'\n",
    "    }\n",
    "\n",
    "    \n",
    "    tbl1 = {'consult_price' :  data['Consult Fee'],\n",
    "            'drug_price' : data['Rx Fee']\n",
    "            }\n",
    "    tbl1['total_fare'] = tbl1['consult_price'] + tbl1['drug_price']\n",
    "\n",
    "    \n",
    "    \n",
    "    \n",
    "\n",
    "    for word in replace_word:\n",
    "        for p in doc.paragraphs:\n",
    "            if p.text.find(word) >= 0:\n",
    "                p.text = p.text.replace(word, replace_word[word])\n",
    "    \n",
    "    par2 = doc.paragraphs[2]\n",
    "    \n",
    "    par2.text = f'Consulted on : {consult_on}'\n",
    "    \n",
    "    par2.runs[0].bold = True\n",
    "\n",
    "\n",
    "    tbl_val1 = tbl1['consult_price']\n",
    "    tbl_val2 = tbl1['drug_price']\n",
    "    tbl_val3 = tbl1['total_fare']\n",
    "    \n",
    "    \n",
    "    \n",
    "    doc.tables[0].cell(0, 1).text = f'Rp {tbl_val1}'\n",
    "    doc.tables[0].cell(0, 1).paragraphs[0].runs[0].bold = True\n",
    "    doc.tables[0].cell(0, 1).paragraphs[0].alignment = 2\n",
    "    \n",
    "    doc.tables[0].cell(1, 1).text = f'Rp {tbl_val2}'\n",
    "    doc.tables[0].cell(1, 1).paragraphs[0].runs[0].bold = True\n",
    "    doc.tables[0].cell(1, 1).paragraphs[0].alignment = 2\n",
    "    \n",
    "    doc.tables[0].cell(2, 1).text = f'Rp {tbl_val3}'\n",
    "    doc.tables[0].cell(2, 1).paragraphs[0].runs[0].bold = True\n",
    "    doc.tables[0].cell(2, 1).paragraphs[0].alignment = 2\n",
    "    doc.tables[0].cell(2, 1).paragraphs[0].runs[0].font.size = Pt(18)\n",
    "    \n",
    "    for i in range(3):\n",
    "        doc.tables[0].cell(i, 1).paragraphs[0].paragraph_format.space_after = Pt(0)\n",
    "\n",
    "    obat = data['pres_all']\n",
    "    if obat != 'nan':\n",
    "    \n",
    "        \n",
    "        \n",
    "        obat_idn = obat.split('|')\n",
    "        for i in range(len(obat_idn)):\n",
    "            obat_cl = obat_idn[i].split(';')\n",
    "            j = i + 1\n",
    "            doc.tables[1].cell(j, 0).text = obat_cl[0]\n",
    "            doc.tables[1].cell(j, 1).text = obat_cl[1]\n",
    "            doc.tables[1].cell(j, 2).text = obat_cl[2]\n",
    "            doc.tables[1].cell(j, 3).text = obat_cl[3]\n",
    "    \n",
    "            doc.tables[1].cell(j, 0).paragraphs[0].runs[0].font.size = Pt(8)\n",
    "            doc.tables[1].cell(j, 1).paragraphs[0].runs[0].font.size = Pt(8)\n",
    "            doc.tables[1].cell(j, 2).paragraphs[0].runs[0].font.size = Pt(8)\n",
    "            doc.tables[1].cell(j, 3).paragraphs[0].runs[0].font.size = Pt(8)\n",
    "        \n",
    "            for k in range(4):\n",
    "                doc.tables[1].cell(j, k).paragraphs[0].paragraph_format.space_after = Pt(0)\n",
    "        \n",
    "    doc.save(f'output/example_document2.docx')\n",
    "    f.close()\n"
   ]
  },
  {
   "cell_type": "code",
   "execution_count": null,
   "id": "64ee6b26-7baf-4fa4-ad88-d81657014730",
   "metadata": {},
   "outputs": [],
   "source": []
  }
 ],
 "metadata": {
  "kernelspec": {
   "display_name": "Python 3 (ipykernel)",
   "language": "python",
   "name": "python3"
  },
  "language_info": {
   "codemirror_mode": {
    "name": "ipython",
    "version": 3
   },
   "file_extension": ".py",
   "mimetype": "text/x-python",
   "name": "python",
   "nbconvert_exporter": "python",
   "pygments_lexer": "ipython3",
   "version": "3.11.9"
  }
 },
 "nbformat": 4,
 "nbformat_minor": 5
}
